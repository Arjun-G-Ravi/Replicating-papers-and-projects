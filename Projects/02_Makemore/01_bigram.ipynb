{
 "cells": [
  {
   "cell_type": "markdown",
   "metadata": {},
   "source": [
    "# Makemore using Bigram"
   ]
  },
  {
   "cell_type": "code",
   "execution_count": null,
   "metadata": {},
   "outputs": [],
   "source": [
    "import torch\n",
    "import matplotlib.pyplot as plt\n",
    "import seaborn as sns # for heatmap"
   ]
  },
  {
   "cell_type": "code",
   "execution_count": null,
   "metadata": {},
   "outputs": [],
   "source": [
    "with open('names.txt', 'r') as f:\n",
    "    words = f.read().split()\n",
    "print(len(words))"
   ]
  },
  {
   "cell_type": "code",
   "execution_count": null,
   "metadata": {},
   "outputs": [],
   "source": [
    "characters = sorted(set(''.join(words)+ '.'))\n",
    "print(characters)"
   ]
  },
  {
   "cell_type": "code",
   "execution_count": null,
   "metadata": {},
   "outputs": [],
   "source": [
    "hmap = {c:n for c,n in zip(characters, [i for i in range(27)])}\n",
    "char_hmap = {n:c for c,n in hmap.items()}\n",
    "print(hmap,'\\n', char_hmap)"
   ]
  },
  {
   "cell_type": "code",
   "execution_count": null,
   "metadata": {},
   "outputs": [],
   "source": [
    "arr = torch.ones(27,27, dtype=torch.int32) # ones are used here to avoid inf in MLE.ie, model smoothening using fake counts."
   ]
  },
  {
   "cell_type": "code",
   "execution_count": null,
   "metadata": {},
   "outputs": [],
   "source": [
    "for word in words:\n",
    "    word = '.' + word + '.'\n",
    "    for ch1,ch2 in zip(word, word[1:]):\n",
    "        # print(ch1,ch2)\n",
    "        arr[hmap[ch1]][hmap[ch2]] += 1 # Row for ch1, Column for ch2"
   ]
  },
  {
   "cell_type": "code",
   "execution_count": null,
   "metadata": {},
   "outputs": [],
   "source": [
    "P = arr/arr.sum(dim=1, keepdim=True) # dim=1 means for each row\n",
    "P[0].sum()"
   ]
  },
  {
   "cell_type": "code",
   "execution_count": null,
   "metadata": {},
   "outputs": [],
   "source": [
    "plt.figure(figsize=(15,15))\n",
    "ax = sns.heatmap(P, annot=True, fmt=\".2f\", cmap=\"viridis\", cbar=False,annot_kws={\"ha\": 'center', \"va\": 'center'},xticklabels=[i for i in hmap], yticklabels=[i for i in hmap])\n",
    "ax.set_xlabel(\"Second character\")\n",
    "ax.set_ylabel(\"First character\")\n",
    "plt.show()"
   ]
  },
  {
   "cell_type": "code",
   "execution_count": null,
   "metadata": {},
   "outputs": [],
   "source": [
    "g = torch.Generator()\n",
    "\n",
    "p = torch.rand(3)\n",
    "p = p/p.sum()\n",
    "print(p)\n",
    "next_index = torch.multinomial(p, num_samples=20, replacement=True, generator=g)\n",
    "print(next_index)"
   ]
  },
  {
   "cell_type": "code",
   "execution_count": null,
   "metadata": {},
   "outputs": [],
   "source": [
    "prob_distribution_of_char = P[0]\n",
    "print(prob_distribution_of_char)\n",
    "next_index = torch.multinomial(prob_distribution_of_char, num_samples=1, replacement=True, generator=g).item()\n",
    "print(next_index)"
   ]
  },
  {
   "cell_type": "code",
   "execution_count": null,
   "metadata": {},
   "outputs": [],
   "source": [
    "g = torch.Generator()\n",
    "\n",
    "for i in range(10):\n",
    "    out = []\n",
    "    word = []\n",
    "    index_of_char = 0 # . initially\n",
    "    log_likelihood = 0\n",
    "    while True:\n",
    "        prob_distribution_of_char = P[index_of_char]\n",
    "        next_index = torch.multinomial(prob_distribution_of_char, num_samples=1, replacement=True, generator=g).item()\n",
    "        new_char = char_hmap[next_index]\n",
    "        out.append(new_char)\n",
    "        log_likelihood -= torch.log(P[index_of_char,next_index])\n",
    "        index_of_char = next_index\n",
    "        if next_index == 0:\n",
    "            print(''.join(out), end=' -> ')\n",
    "            n = len(out)\n",
    "            break\n",
    "    print(f'Average negative log likelehood: {log_likelihood.item()/(n+1):.2f}\\n')\n",
    "    "
   ]
  },
  {
   "cell_type": "code",
   "execution_count": null,
   "metadata": {},
   "outputs": [],
   "source": []
  },
  {
   "cell_type": "code",
   "execution_count": null,
   "metadata": {},
   "outputs": [],
   "source": []
  },
  {
   "cell_type": "code",
   "execution_count": null,
   "metadata": {},
   "outputs": [],
   "source": []
  }
 ],
 "metadata": {
  "kernelspec": {
   "display_name": "AI_ENV",
   "language": "python",
   "name": "python3"
  },
  "language_info": {
   "codemirror_mode": {
    "name": "ipython",
    "version": 3
   },
   "file_extension": ".py",
   "mimetype": "text/x-python",
   "name": "python",
   "nbconvert_exporter": "python",
   "pygments_lexer": "ipython3",
   "version": "3.10.12"
  }
 },
 "nbformat": 4,
 "nbformat_minor": 2
}
